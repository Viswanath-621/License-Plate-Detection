{
 "cells": [
  {
   "cell_type": "code",
   "execution_count": 1,
   "id": "aa56ada1",
   "metadata": {},
   "outputs": [],
   "source": [
    "import cv2"
   ]
  },
  {
   "cell_type": "code",
   "execution_count": 2,
   "id": "86286e78",
   "metadata": {},
   "outputs": [
    {
     "name": "stdout",
     "output_type": "stream",
     "text": [
      "Requirement already satisfied: pytesseract in c:\\users\\viswanath bodapati\\anaconda3\\lib\\site-packages (0.3.10)\n",
      "Requirement already satisfied: Pillow>=8.0.0 in c:\\users\\viswanath bodapati\\anaconda3\\lib\\site-packages (from pytesseract) (9.0.1)\n",
      "Requirement already satisfied: packaging>=21.3 in c:\\users\\viswanath bodapati\\anaconda3\\lib\\site-packages (from pytesseract) (21.3)\n",
      "Requirement already satisfied: pyparsing!=3.0.5,>=2.0.2 in c:\\users\\viswanath bodapati\\anaconda3\\lib\\site-packages (from packaging>=21.3->pytesseract) (3.0.4)\n",
      "Note: you may need to restart the kernel to use updated packages.\n"
     ]
    }
   ],
   "source": [
    "pip install pytesseract"
   ]
  },
  {
   "cell_type": "code",
   "execution_count": 4,
   "id": "6575bc71",
   "metadata": {},
   "outputs": [
    {
     "name": "stdout",
     "output_type": "stream",
     "text": [
      "Collecting opencv-python\n",
      "  Downloading opencv_python-4.6.0.66-cp36-abi3-win_amd64.whl (35.6 MB)\n",
      "Requirement already satisfied: numpy>=1.17.3 in c:\\users\\viswanath bodapati\\anaconda3\\lib\\site-packages (from opencv-python) (1.21.5)\n",
      "Installing collected packages: opencv-python\n",
      "Successfully installed opencv-python-4.6.0.66\n",
      "Note: you may need to restart the kernel to use updated packages.\n"
     ]
    }
   ],
   "source": [
    "pip install opencv-python"
   ]
  },
  {
   "cell_type": "code",
   "execution_count": null,
   "id": "4120cd64",
   "metadata": {},
   "outputs": [],
   "source": []
  },
  {
   "cell_type": "code",
   "execution_count": 39,
   "id": "d0799aa1",
   "metadata": {},
   "outputs": [],
   "source": [
    "import cv2\n",
    "\n",
    "cap = cv2.VideoCapture('cars_video.mp4')\n",
    "car_cascade = cv2.CascadeClassifier('cars.xml')\n",
    "\n",
    "\n",
    "while True:\n",
    "  ret, frames = cap.read()\n",
    "  if frames is None:\n",
    "    break\n",
    "  #cv2_imshow(frames)\n",
    "\n",
    "  try :\n",
    "    gray = cv2.cvtColor(frames, cv2.COLOR_BGR2GRAY)\n",
    "    nplate = car_cascade.detectMultiScale(gray, 1.1, 4)\n",
    "    for (x,y,w,h) in nplate:\n",
    "      a,b = (int(0.02*frames.shape[0]),int(0.025*frames.shape[1]))\n",
    "      plate = frames[y+a:y+h-a,x+b:x+w-b,:]\n",
    "\n",
    "      try:\n",
    "        cv2.imshow('plate',plate)\n",
    "        #cv2.waitKey(0)\n",
    "        #cv2.destroyAllWindows() \n",
    "      except Exception as e:\n",
    "        pass\n",
    "  except Exception as e:\n",
    "    pass"
   ]
  },
  {
   "cell_type": "code",
   "execution_count": 6,
   "id": "7aa5f41e",
   "metadata": {},
   "outputs": [],
   "source": [
    "def extract_plate(img): # the function detects and perfors blurring on the number plate.\n",
    "    plate_img = img.copy()\n",
    "    global plate\n",
    "    \n",
    "    #Loads the data required for detecting the license plates from cascade classifier.\n",
    "    plate_cascade = cv2.CascadeClassifier('./indian_license_plate.xml')\n",
    "\n",
    "    # detects numberplates and returns the coordinates and dimensions of detected license plate's contours.\n",
    "    plate_rect = plate_cascade.detectMultiScale(plate_img, scaleFactor = 1.3, minNeighbors = 7)\n",
    "\n",
    "    for (x,y,w,h) in plate_rect:\n",
    "        a,b = (int(0.02*img.shape[0]), int(0.025*img.shape[1])) #parameter tuning\n",
    "        plate = plate_img[y+a:y+h-a, x+b:x+w-b,: ]\n",
    "        # finally representing the detected contours by drawing rectangles around the edges.\n",
    "        cv2.rectangle(plate_img, (x,y), (x+w, y+h), (51,51,255), 3)\n",
    "        \n",
    "        \n",
    "    return plate_img, plate # returning the processed image"
   ]
  },
  {
   "cell_type": "code",
   "execution_count": 11,
   "id": "42f11ddf",
   "metadata": {},
   "outputs": [
    {
     "data": {
      "text/plain": [
       "'\\nres = re.findall(pred_result,\"^[A-Z]{1,3}-[A-Z]{1,2}-[0-9]{4}$\")\\nprint(res)'"
      ]
     },
     "execution_count": 11,
     "metadata": {},
     "output_type": "execute_result"
    }
   ],
   "source": [
    "import cv2\n",
    "import re\n",
    "from PIL import Image\n",
    "import pytesseract as pt\n",
    "from pytesseract import Output\n",
    "\n",
    "pt.pytesseract.tesseract_cmd = 'C:\\\\Program Files\\\\Tesseract-OCR\\\\tesseract.exe'\n",
    "\n",
    "cap = cv2.VideoCapture('car_video.mp4')\n",
    "#car_cascade = cv2.CascadeClassifier('cars.xml')\n",
    "\n",
    "#tesseract_cmd = r'C:\\Program Files\\Tesseract-OCR\\tesseract'\n",
    "\n",
    "temp = set()\n",
    "\n",
    "while True:\n",
    "  ret, frames = cap.read()\n",
    "  if frames is None:\n",
    "    break\n",
    "  #cv2_imshow(frames)\n",
    "\n",
    "  try :\n",
    "    text1,text2 = extract_image(frames)\n",
    "    cv2.imshow(text2)\n",
    "    cv2.waitkey(0)\n",
    "    #gray = cv2.cvtColor(frames, cv2.COLOR_BGR2GRAY)\n",
    "    #nplate = car_cascade.detectMultiScale(gray, 1.1, 4)\n",
    "    result = pt.image_to_string(text2,output_type=Output.DICT)\n",
    "    print(result)\n",
    "    '''\n",
    "    #for (x,y,w,h) in nplate:\n",
    "      #a,b = (int(0.02*frames.shape[0]), int(0.025*frames.shape[1]))\n",
    "      #plate = frames[y+a:y+h-a,x+b:x+w-b,:]\n",
    "\n",
    "      try:\n",
    "        #cv2_imshow(plate)\n",
    "        license_plate = cv2.resize(plate, None, fx = 2, fy = 2, interpolation = cv2.INTER_CUBIC)\n",
    "        license_plate = cv2.cvtColor(license_plate, cv2.COLOR_BGR2GRAY)\n",
    "        license_plate = cv2.GaussianBlur(license_plate, (5, 5), 0)\n",
    "        #cv2_imshow(license_plate)\n",
    "        result = pt.image_to_string(license_plate,output_type=Output.DICT)\n",
    "        #print(result['text'])\n",
    "        pred_result = \"\".join(result['text'].split()).replace(\":\", \"\").replace(\"-\", \"\")\n",
    "       \n",
    "        #print(pred_result)\n",
    "        pred=pred_result.split('/n')\n",
    "        if len(pred[0])>2:\n",
    "            print(pred)\n",
    "        \n",
    "        if re.search(\"^[A-Z]{1,3}-[A-Z]{1,2}-[0-9]{1,4}$\",pred)!=none:\n",
    "                print(re.search(\"^[A-Z]{1,3}-[A-Z]{1,2}-[0-9]{4}$\",pred))\n",
    "        \n",
    "        \n",
    "        #temp.append(pred_result)\n",
    "        \n",
    "      except Exception as e:\n",
    "        pass'''\n",
    "  except Exception as e:\n",
    "    pass\n",
    "'''\n",
    "res = re.findall(pred_result,\"^[A-Z]{1,3}-[A-Z]{1,2}-[0-9]{4}$\")\n",
    "print(res)'''"
   ]
  },
  {
   "cell_type": "code",
   "execution_count": null,
   "id": "6031419d",
   "metadata": {},
   "outputs": [],
   "source": [
    "#AP29BW1276\n",
    "import pytesseract\n",
    "import cv2\n",
    "import numpy as np\n",
    "from pytesseract import Output\n",
    "import re\n",
    "tesseract_cmd = r'C:\\Program Files (x86)\\Tesseract-OCR\\tesseract'\n",
    "img = cv2.imread('lok.jpg')\n",
    "d = pytesseract.image_to_string(img, output_type=Output.DICT)\n",
    "str = d['text']\n",
    "print(str)"
   ]
  },
  {
   "cell_type": "code",
   "execution_count": null,
   "id": "75023e7c",
   "metadata": {},
   "outputs": [],
   "source": []
  }
 ],
 "metadata": {
  "kernelspec": {
   "display_name": "Python 3 (ipykernel)",
   "language": "python",
   "name": "python3"
  },
  "language_info": {
   "codemirror_mode": {
    "name": "ipython",
    "version": 3
   },
   "file_extension": ".py",
   "mimetype": "text/x-python",
   "name": "python",
   "nbconvert_exporter": "python",
   "pygments_lexer": "ipython3",
   "version": "3.9.12"
  }
 },
 "nbformat": 4,
 "nbformat_minor": 5
}
